{
 "cells": [
  {
   "cell_type": "markdown",
   "id": "7a705d0c",
   "metadata": {},
   "source": [
    "# Numpy Library in python"
   ]
  },
  {
   "cell_type": "code",
   "execution_count": 1,
   "id": "723d0408",
   "metadata": {},
   "outputs": [
    {
     "name": "stdout",
     "output_type": "stream",
     "text": [
      "Sum of two array in Numpy [5 7 9]\n"
     ]
    }
   ],
   "source": [
    "import numpy as np\n",
    "\n",
    "a = np.array([1, 2, 3])\n",
    "b = np.array([4, 5, 6])\n",
    "c = a + b\n",
    "\n",
    "print(\"Sum of two array in Numpy\",c)"
   ]
  },
  {
   "cell_type": "code",
   "execution_count": 2,
   "id": "098fdc9d",
   "metadata": {},
   "outputs": [
    {
     "name": "stdout",
     "output_type": "stream",
     "text": [
      "Enter a list of comma-separated numbers: 2,4,6,-1,4,0,6,-8,1\n",
      "NumPy array:\n",
      " [[ 2  4  6]\n",
      " [-1  4  0]\n",
      " [ 6 -8  1]]\n"
     ]
    }
   ],
   "source": [
    "import numpy as np\n",
    "\n",
    "# Taking user input\n",
    "input_string = input(\"Enter a list of comma-separated numbers: \")\n",
    "\n",
    "# Converting the input string to a list of numbers\n",
    "numbers = [int(x) for x in input_string.split(',')]\n",
    "\n",
    "# Converting the list to a NumPy array\n",
    "array = np.array(numbers)\n",
    "\n",
    "print(\"NumPy array:\\n\", array.reshape(3,3))"
   ]
  },
  {
   "cell_type": "code",
   "execution_count": 3,
   "id": "99d55d19",
   "metadata": {},
   "outputs": [
    {
     "name": "stdout",
     "output_type": "stream",
     "text": [
      "1\n",
      "2\n",
      "3\n",
      "4\n",
      "5\n"
     ]
    }
   ],
   "source": [
    "#Iterate a list in numpy libary\n",
    "import numpy as np\n",
    "\n",
    "array = np.array([1, 2, 3, 4, 5])\n",
    "\n",
    "for element in np.nditer(array):\n",
    "    print(element)"
   ]
  },
  {
   "cell_type": "markdown",
   "id": "711d34c8",
   "metadata": {},
   "source": [
    "# NumPy is a library for numerical computing, so it is typically used with arrays rather than tuples. \n",
    "If you want to perform numerical operations on a tuple, it is recommended to convert it to a NumPy array first."
   ]
  },
  {
   "cell_type": "code",
   "execution_count": 4,
   "id": "d1c4d9db",
   "metadata": {},
   "outputs": [
    {
     "name": "stdout",
     "output_type": "stream",
     "text": [
      "1\n",
      "2\n",
      "3\n",
      "4\n",
      "5\n"
     ]
    }
   ],
   "source": [
    "#iterate a tuple\n",
    "tuple = (1, 2, 3, 4, 5)\n",
    "\n",
    "for element in tuple:\n",
    "    print(element)"
   ]
  },
  {
   "cell_type": "code",
   "execution_count": 5,
   "id": "5ff753ae",
   "metadata": {},
   "outputs": [
    {
     "name": "stdout",
     "output_type": "stream",
     "text": [
      "H e l l o ,   w o r l d ! "
     ]
    }
   ],
   "source": [
    "#The for loop iterates over each character in the string, and the print function prints each character one by one.\n",
    "string = \"Hello, world!\"\n",
    "\n",
    "for char in string:\n",
    "    print(char,end=\" \")"
   ]
  },
  {
   "cell_type": "code",
   "execution_count": 6,
   "id": "2283a5ff",
   "metadata": {},
   "outputs": [
    {
     "data": {
      "image/png": "[encoded data removed]",
      "text/plain": [
       "<Figure size 432x288 with 1 Axes>"
      ]
     },
     "metadata": {
      "needs_background": "light"
     },
     "output_type": "display_data"
    }
   ],
   "source": [
    "import numpy as np\n",
    "import matplotlib.pyplot as plt\n",
    "\n",
    "x = np.array([1, 2, 3, 4, 5])\n",
    "y = np.array([5, 4, 3, 2, 1])\n",
    "\n",
    "plt.scatter(x, y)\n",
    "plt.show()"
   ]
  },
  {
   "cell_type": "code",
   "execution_count": 7,
   "id": "405c3fb9",
   "metadata": {},
   "outputs": [
    {
     "name": "stdout",
     "output_type": "stream",
     "text": [
      "Array dimensions: (2, 3)\n"
     ]
    }
   ],
   "source": [
    "'''we can use the ndarray.shape property in NumPy to check the dimensions of an array. \n",
    "The shape property returns a tuple of integers representing the size of the array along each dimension.\n",
    "In this example, the array has two dimensions, with 2 rows and 3 columns. \n",
    "The shape property returns (2, 3), which indicates the size of the array along each dimension.'''\n",
    "import numpy as np\n",
    "\n",
    "array = np.array([[1, 2, 3], [4, 5, 6]])\n",
    "\n",
    "print(\"Array dimensions:\", array.shape)"
   ]
  },
  {
   "cell_type": "code",
   "execution_count": 8,
   "id": "62423981",
   "metadata": {},
   "outputs": [
    {
     "name": "stdout",
     "output_type": "stream",
     "text": [
      "Array size: 5\n"
     ]
    }
   ],
   "source": [
    "'''we can use the numpy.\n",
    "   size function to check the size of a NumPy array, which is the total number of elements in the array.\n",
    "    In this example, the np.size function returns 5, which is the total number of elements in the array.\n",
    "'''\n",
    "import numpy as np\n",
    "\n",
    "array = np.array([1, 2, 3, 4, 5])\n",
    "\n",
    "print(\"Array size:\", np.size(array))"
   ]
  },
  {
   "cell_type": "code",
   "execution_count": 9,
   "id": "b52c04b2",
   "metadata": {},
   "outputs": [
    {
     "name": "stdout",
     "output_type": "stream",
     "text": [
      "Sum of matrices: \n",
      " [[ 8 10 12]\n",
      " [14 16 18]]\n"
     ]
    }
   ],
   "source": [
    "#We can use the numpy.add function to add two matrices element-wise in NumPy.\n",
    "''' In this example, the np.add function adds the elements of matrix1 and matrix2 element-wise, \n",
    "    producing a new matrix with the same shape as the input matrices.\n",
    "    The result is stored in the sum_of_matrices variable.\n",
    "'''\n",
    "import numpy as np\n",
    "\n",
    "matrix1 = np.array([[1, 2, 3], [4, 5, 6]])\n",
    "matrix2 = np.array([[7, 8, 9], [10, 11, 12]])\n",
    "\n",
    "sum_of_matrices = np.add(matrix1, matrix2)\n",
    "\n",
    "print(\"Sum of matrices: \\n\", sum_of_matrices)"
   ]
  },
  {
   "cell_type": "code",
   "execution_count": 10,
   "id": "9b7d82e8",
   "metadata": {},
   "outputs": [
    {
     "name": "stdout",
     "output_type": "stream",
     "text": [
      "1\n",
      "2\n",
      "3\n",
      "4\n",
      "5\n",
      "6\n"
     ]
    }
   ],
   "source": [
    "#iterate over a 2D NumPy array.\n",
    "'''In this example, \n",
    "    The outer for loop iterates over each row of the array.\n",
    "    The inner for loop iterates over each element in that row. \n",
    "    The print function prints each element one by one.\n",
    "'''\n",
    "import numpy as np\n",
    "\n",
    "array = np.array([[1, 2, 3], [4, 5, 6]])\n",
    "\n",
    "for row in array:\n",
    "    for element in row:\n",
    "        print(element)"
   ]
  },
  {
   "cell_type": "code",
   "execution_count": 11,
   "id": "d9138654",
   "metadata": {},
   "outputs": [
    {
     "name": "stdout",
     "output_type": "stream",
     "text": [
      "1\n",
      "2\n",
      "3\n",
      "4\n",
      "5\n",
      "6\n"
     ]
    }
   ],
   "source": [
    "#we can use the numpy.nditer function to iterate over the elements of a NumPy array.\n",
    "#This method is more efficient than using nested for loops, as it leverages NumPy's optimized iteration implementation.\n",
    "import numpy as np\n",
    "\n",
    "array = np.array([[1, 2, 3], [4, 5, 6]])\n",
    "\n",
    "for element in np.nditer(array):\n",
    "    print(element)"
   ]
  },
  {
   "cell_type": "code",
   "execution_count": 12,
   "id": "f690420a",
   "metadata": {},
   "outputs": [
    {
     "name": "stdout",
     "output_type": "stream",
     "text": [
      "Sum of features: [5 7 9]\n",
      "Mean of features: 7.0\n"
     ]
    }
   ],
   "source": [
    "'''NumPy does not have a built-in data structure for dictionaries, \n",
    "  but you can use dictionaries in combination with NumPy arrays to store and manipulate data.\n",
    "  For example, you can create a dictionary where each key maps to a NumPy array\n",
    "'''\n",
    "import numpy as np\n",
    "\n",
    "data = {\n",
    "    'feature1': np.array([1, 2, 3]),\n",
    "    'feature2': np.array([4, 5, 6])        #key : value pair check it\n",
    "}\n",
    "\n",
    "sum_of_features = np.add(data['feature1'], data['feature2'])\n",
    "mean_of_features = np.mean(sum_of_features)\n",
    "\n",
    "print(\"Sum of features:\", sum_of_features)\n",
    "print(\"Mean of features:\", mean_of_features)"
   ]
  },
  {
   "cell_type": "code",
   "execution_count": 13,
   "id": "f58e9aec",
   "metadata": {},
   "outputs": [
    {
     "name": "stdout",
     "output_type": "stream",
     "text": [
      "Data: {'feature1': array([1, 2, 3]), 'feature2': array([4, 5, 6])}\n"
     ]
    }
   ],
   "source": [
    "import numpy as np\n",
    "\n",
    "data = {\n",
    "    'feature1': np.array([1, 2, 3]),\n",
    "    'feature2': np.array([4, 5, 6])\n",
    "}\n",
    "\n",
    "print(\"Data:\", data)"
   ]
  },
  {
   "cell_type": "code",
   "execution_count": 14,
   "id": "01815e69",
   "metadata": {},
   "outputs": [
    {
     "name": "stdout",
     "output_type": "stream",
     "text": [
      "Squared array: [ 1  4  9 16 25]\n"
     ]
    }
   ],
   "source": [
    "#lambda function in numpy \n",
    "import numpy as np\n",
    "\n",
    "arr = np.array([1, 2, 3, 4, 5])\n",
    "\n",
    "# Using a lambda function to square the elements of the array\n",
    "squared_arr = np.array(list(map(lambda x: x**2, arr)))\n",
    "\n",
    "print(\"Squared array:\", squared_arr)"
   ]
  },
  {
   "cell_type": "markdown",
   "id": "a8057560",
   "metadata": {},
   "source": [
    "# In this example, a set of random data is generated using np.random.normal with a mean of 100 and a standard deviation of 20, and 1000 samples are generated. \n",
    "The np.histogram function is used to compute the histogram of the data, with 20 bins. The hist variable stores the frequency of each bin, and the bins variable stores the edges of the bins.\n",
    "\n",
    "Finally, the histogram is plotted using matplotlib.pyplot.hist. The bins[:-1] argument provides the center of the bins, and the weights argument provides the frequency of each bin. The labels for the x and y axes, as well as the title of the plot, are added using the xlabel, ylabel, and title functions, respectively. The plot is displayed using the show function."
   ]
  },
  {
   "cell_type": "code",
   "execution_count": 15,
   "id": "04ad4a18",
   "metadata": {},
   "outputs": [
    {
     "data": {
      "image/png": "[encoded data removed]",
      "text/plain": [
       "<Figure size 432x288 with 1 Axes>"
      ]
     },
     "metadata": {
      "needs_background": "light"
     },
     "output_type": "display_data"
    }
   ],
   "source": [
    "''' A histogram is a representation of the distribution of a set of continuous or discrete data. \n",
    "    In NumPy, you can create histograms using the numpy.histogram function.\n",
    "    \n",
    "'''\n",
    "import numpy as np\n",
    "import matplotlib.pyplot as plt\n",
    "\n",
    "# Generating some data\n",
    "data = np.random.normal(100, 20, 1000)\n",
    "\n",
    "# Creating the histogram\n",
    "hist, bins = np.histogram(data, bins=20)\n",
    "\n",
    "# Plotting the histogram\n",
    "plt.hist(bins[:-1], bins, weights=hist)\n",
    "plt.xlabel(\"Values\")\n",
    "plt.ylabel(\"Frequency\")\n",
    "plt.title(\"Histogram Example\")\n",
    "plt.show()"
   ]
  },
  {
   "cell_type": "markdown",
   "id": "da1f8181",
   "metadata": {},
   "source": [
    "# Seaborn is a data visualization library based on Matplotlib that provides a high-level interface for creating attractive and informative statistical graphics. \n",
    "In combination with NumPy, Seaborn can be used to visualize the distributions and relationships between variables in a dataset.\n",
    "In this example, a set of random data is generated using np.random.normal, with a mean of 0 and a standard deviation of 1 for x, and x + np.random.normal(0, 0.1, 100) for y.\n",
    "\n",
    "The scatterplot is created using the sns.scatterplot function. The x and y arrays are passed as arguments. The labels for the x and y axes, as well as the title of the plot, are added using the xlabel, ylabel, and title functions from Matplotlib, respectively. The plot is displayed using the show function.\n",
    "\n",
    "With Seaborn, you can easily create a variety of other plots, such as line plots, bar plots, and histograms, to visualize your data."
   ]
  },
  {
   "cell_type": "code",
   "execution_count": 16,
   "id": "f72498d7",
   "metadata": {},
   "outputs": [
    {
     "name": "stderr",
     "output_type": "stream",
     "text": [
      "C:\\Users\\Admin\\anaconda3\\lib\\site-packages\\seaborn\\_decorators.py:36: FutureWarning: Pass the following variables as keyword args: x, y. From version 0.12, the only valid positional argument will be `data`, and passing other arguments without an explicit keyword will result in an error or misinterpretation.\n",
      "  warnings.warn(\n"
     ]
    },
    {
     "data": {
      "image/png": "[encoded data removed]",
      "text/plain": [
       "<Figure size 432x288 with 1 Axes>"
      ]
     },
     "metadata": {
      "needs_background": "light"
     },
     "output_type": "display_data"
    }
   ],
   "source": [
    "import numpy as np\n",
    "import seaborn as sns\n",
    "import matplotlib.pyplot as plt\n",
    "\n",
    "# Generating some data\n",
    "np.random.seed(0)\n",
    "x = np.random.normal(0, 1, 100)\n",
    "y = x + np.random.normal(0, 0.1, 100)\n",
    "\n",
    "# Plotting the scatterplot\n",
    "sns.scatterplot(x, y)\n",
    "plt.xlabel(\"x\")\n",
    "plt.ylabel(\"y\")\n",
    "plt.title(\"Scatterplot Example\")\n",
    "plt.show()"
   ]
  },
  {
   "cell_type": "markdown",
   "id": "03f8a5e8",
   "metadata": {},
   "source": [
    "# TensorFlow is an open-source machine learning framework for creating and training machine learning models. \n",
    "It can be used in combination with NumPy to perform various machine learning tasks.\n",
    "In this example, two NumPy arrays a and b are defined and then converted to TensorFlow tensors using the tf.convert_to_tensor function. The matrix addition operation is performed using the tf.add function, and the result is a TensorFlow tensor. Finally, the TensorFlow tensor is converted back to a NumPy array using the numpy property.\n",
    "\n",
    "Note that this example just scratches the surface of what's possible with TensorFlow. With TensorFlow, you can perform complex operations such as linear regression, logistic regression, neural networks, and more."
   ]
  },
  {
   "cell_type": "code",
   "execution_count": 17,
   "id": "122f46f2",
   "metadata": {},
   "outputs": [
    {
     "name": "stdout",
     "output_type": "stream",
     "text": [
      "NumPy array:\n",
      " [[ 6  8]\n",
      " [10 12]]\n"
     ]
    }
   ],
   "source": [
    "import numpy as np\n",
    "import tensorflow as tf\n",
    "\n",
    "# Defining two NumPy arrays\n",
    "a = np.array([[1, 2], [3, 4]])\n",
    "b = np.array([[5, 6], [7, 8]])\n",
    "\n",
    "# Converting the NumPy arrays to TensorFlow tensors\n",
    "a = tf.convert_to_tensor(a, dtype=tf.int32)\n",
    "b = tf.convert_to_tensor(b, dtype=tf.int32)\n",
    "\n",
    "# Performing matrix addition using TensorFlow\n",
    "c = tf.add(a, b)\n",
    "\n",
    "# Converting the TensorFlow tensor back to a NumPy array\n",
    "c = c.numpy()\n",
    "\n",
    "print(\"NumPy array:\\n\", c)"
   ]
  },
  {
   "cell_type": "markdown",
   "id": "eee54d39",
   "metadata": {},
   "source": [
    "# A curve can be plotted in NumPy using the pyplot module from the matplotlib library. \n",
    "The pyplot module provides functions for creating various types of plots including line plots, scatter plots, histograms, and more.\n",
    "In this example, the linspace function is used to generate 100 x-values evenly spaced between -π and π. The sin function is then used to generate the corresponding y-values. The plot function is used to plot the curve and the xlabel and ylabel functions are used to add labels to the x-axis and y-axis, respectively. Finally, the show function is used to display the plot.\n",
    "\n",
    "This is just a simple example, and you can create more complex and sophisticated plots with pyplot by using various other functions and features it provides."
   ]
  },
  {
   "cell_type": "code",
   "execution_count": 18,
   "id": "9206d289",
   "metadata": {},
   "outputs": [
    {
     "data": {
      "image/png": "[encoded data removed]",
      "text/plain": [
       "<Figure size 432x288 with 1 Axes>"
      ]
     },
     "metadata": {
      "needs_background": "light"
     },
     "output_type": "display_data"
    }
   ],
   "source": [
    "import numpy as np\n",
    "import matplotlib.pyplot as plt\n",
    "\n",
    "# Generating x-values for the curve\n",
    "x = np.linspace(-np.pi, np.pi, 100)\n",
    "\n",
    "# Generating y-values for the curve\n",
    "y = np.sin(x)\n",
    "\n",
    "# Plotting the curve\n",
    "plt.plot(x, y)\n",
    "\n",
    "# Adding labels to the axes\n",
    "plt.xlabel(\"x\")\n",
    "plt.ylabel(\"sin(x)\")\n",
    "\n",
    "# Displaying the plot\n",
    "plt.show()"
   ]
  }
 ],
 "metadata": {
  "kernelspec": {
   "display_name": "Python 3 (ipykernel)",
   "language": "python",
   "name": "python3"
  },
  "language_info": {
   "codemirror_mode": {
    "name": "ipython",
    "version": 3
   },
   "file_extension": ".py",
   "mimetype": "text/x-python",
   "name": "python",
   "nbconvert_exporter": "python",
   "pygments_lexer": "ipython3",
   "version": "3.9.12"
  }
 },
 "nbformat": 4,
 "nbformat_minor": 5
}
